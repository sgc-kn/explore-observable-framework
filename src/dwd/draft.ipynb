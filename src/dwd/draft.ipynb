version https://git-lfs.github.com/spec/v1
oid sha256:9ab5138cbbca43d4faf7cfd5b2a1539a9e5995ca923cf28925c1a8372894163d
size 15491
