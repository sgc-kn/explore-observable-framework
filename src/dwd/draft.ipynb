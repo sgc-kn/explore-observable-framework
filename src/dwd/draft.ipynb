version https://git-lfs.github.com/spec/v1
oid sha256:eefdb9d51e7963d83710e2759b0f10e83e11122a789bb312fb78506a91b9fbbe
size 18166
